{
 "cells": [
  {
   "cell_type": "code",
   "execution_count": null,
   "id": "bfb1cf79",
   "metadata": {},
   "outputs": [],
   "source": [
    "def JobScheduling(arr, t):\n",
    "    n = len(arr)\n",
    "    for i in range(n):\n",
    "        for j in range(n - 1 - i):\n",
    "            if arr[j][2] < arr[j + 1][2]:\n",
    "                (arr[j], arr[j + 1]) = (arr[j + 1], arr[j])\n",
    " \n",
    "    job = ['-1'] * t\n",
    "    for i in range(n):\n",
    "        for j in range(min(t-1, arr[i][1]-1), -1, -1):\n",
    "            if job[j] == '-1':\n",
    "                job[j] = arr[i][0]\n",
    "                break\n",
    "    print(job)\n",
    "\n",
    "arr = [['a', 2, 100],\n",
    "       ['b', 1, 19],\n",
    "       ['c', 2, 27],\n",
    "       ['d', 1, 25],\n",
    "       ['e', 3, 15]]\n",
    "\n",
    "print(\"Following is maximum profit sequence of jobs:\")\n",
    "JobScheduling(arr, 3)\n",
    "\n",
    "#Output"
   ]
  }
 ],
 "metadata": {
  "kernelspec": {
   "display_name": "Python 3 (ipykernel)",
   "language": "python",
   "name": "python3"
  },
  "language_info": {
   "codemirror_mode": {
    "name": "ipython",
    "version": 3
   },
   "file_extension": ".py",
   "mimetype": "text/x-python",
   "name": "python",
   "nbconvert_exporter": "python",
   "pygments_lexer": "ipython3",
   "version": "3.9.13"
  }
 },
 "nbformat": 4,
 "nbformat_minor": 5
}
