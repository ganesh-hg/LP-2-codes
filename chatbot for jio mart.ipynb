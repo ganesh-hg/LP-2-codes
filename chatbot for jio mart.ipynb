{
 "cells": [
  {
   "cell_type": "code",
   "execution_count": null,
   "id": "9bcc261f",
   "metadata": {},
   "outputs": [],
   "source": [
    "import random\n",
    "\n",
    "# Dictionary of possible user greetings and bot responses\n",
    "greetings = {\n",
    "    \"hello\": \"Hello! How can I assist you today?\",\n",
    "    \"hi\": \"Hi there! How can I help you?\",\n",
    "    \"hey\": \"Hey! How can I assist you?\",\n",
    "    \"greetings\": \"Greetings! How can I assist you today?\"\n",
    "}\n",
    "\n",
    "# Dictionary of possible user queries and bot responses\n",
    "queries = {\n",
    "    \"product availability\": \"Please provide the name or description of the product you are looking for.\",\n",
    "    \"order status\": \"To check your order status, please provide your order number.\",\n",
    "    \"delivery information\": \"To get information about delivery, please provide your order number.\",\n",
    "    \"payment options\": \"We accept various payment options including credit card, debit card, net banking, and UPI.\",\n",
    "    \"store location\": \"We have multiple stores across the city. Please provide your location to find the nearest store.\"\n",
    "}\n",
    "\n",
    "def get_response(user_input):\n",
    "    user_input = user_input.lower()\n",
    "    response = \"\"\n",
    "\n",
    "    # Check for greetings\n",
    "    for greeting in greetings:\n",
    "        if greeting in user_input:\n",
    "            response = greetings[greeting]\n",
    "            break\n",
    "\n",
    "    # Check for queries\n",
    "    for query in queries:\n",
    "        if query in user_input:\n",
    "            response = queries[query]\n",
    "            break\n",
    "\n",
    "    # If no specific response, provide a generic response\n",
    "    if not response:\n",
    "        response = \"I'm sorry, but I couldn't understand your request. How can I assist you?\"\n",
    "\n",
    "    return response\n",
    "\n",
    "# Example usage\n",
    "print(\"JioMart ChatBot:\")\n",
    "print(\"---------------\")\n",
    "print(\"Bot: Hello! How can I assist you today?\")\n",
    "\n",
    "while True:\n",
    "    user_input = input(\"User: \")\n",
    "    bot_response = get_response(user_input)\n",
    "    print(\"Bot:\", bot_response)\n"
   ]
  },
  {
   "cell_type": "code",
   "execution_count": null,
   "id": "c723a772",
   "metadata": {},
   "outputs": [],
   "source": []
  },
  {
   "cell_type": "code",
   "execution_count": null,
   "id": "515b84bd",
   "metadata": {},
   "outputs": [],
   "source": []
  }
 ],
 "metadata": {
  "kernelspec": {
   "display_name": "Python 3 (ipykernel)",
   "language": "python",
   "name": "python3"
  },
  "language_info": {
   "codemirror_mode": {
    "name": "ipython",
    "version": 3
   },
   "file_extension": ".py",
   "mimetype": "text/x-python",
   "name": "python",
   "nbconvert_exporter": "python",
   "pygments_lexer": "ipython3",
   "version": "3.9.13"
  }
 },
 "nbformat": 4,
 "nbformat_minor": 5
}
