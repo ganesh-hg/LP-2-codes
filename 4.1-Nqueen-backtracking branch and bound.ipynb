{
 "cells": [
  {
   "cell_type": "code",
   "execution_count": 3,
   "id": "9d17e8fc",
   "metadata": {},
   "outputs": [
    {
     "name": "stdout",
     "output_type": "stream",
     "text": [
      "Enter the value of N: 8\n",
      "| Q |   |   |   |   |   |   |   |\n",
      "|   |   |   |   |   |   | Q |   |\n",
      "|   |   |   |   | Q |   |   |   |\n",
      "|   |   |   |   |   |   |   | Q |\n",
      "|   | Q |   |   |   |   |   |   |\n",
      "|   |   |   | Q |   |   |   |   |\n",
      "|   |   |   |   |   | Q |   |   |\n",
      "|   |   | Q |   |   |   |   |   |\n"
     ]
    },
    {
     "data": {
      "text/plain": [
       "True"
      ]
     },
     "execution_count": 3,
     "metadata": {},
     "output_type": "execute_result"
    }
   ],
   "source": [
    "global N\n",
    "N = int(input(\"Enter the value of N: \"))\n",
    "\n",
    "def printSolution(board):\n",
    "\tfor i in range(N):\n",
    "\t\tfor j in range(N):\n",
    "\t\t\tprint ('|',board[i][j],end=' ')\n",
    "\t\tprint('|')\n",
    "\n",
    "def isSafe(board, row, col):\n",
    "\tfor i in range(col):\n",
    "\t\tif board[row][i] == 'Q':\n",
    "\t\t\treturn False\n",
    "\n",
    "\tfor i, j in zip(range(row, -1, -1), range(col, -1, -1)):\n",
    "\t\tif board[i][j] == 'Q':\n",
    "\t\t\treturn False\n",
    "\n",
    "\tfor i, j in zip(range(row, N, 1), range(col, -1, -1)):\n",
    "\t\tif board[i][j] == 'Q':\n",
    "\t\t\treturn False\n",
    "\n",
    "\treturn True\n",
    "\n",
    "def solveNQUtil(board, col):\n",
    "\tif col >= N:\n",
    "\t\treturn True\n",
    "\n",
    "\tfor i in range(N):\n",
    "\t\tif isSafe(board, i, col):\n",
    "\t\t\tboard[i][col] = 'Q'\n",
    "\n",
    "\t\t\tif solveNQUtil(board, col + 1) == True:\n",
    "\t\t\t\treturn True\n",
    "\n",
    "\t\t\tboard[i][col] = ' '\n",
    "\n",
    "\treturn False\n",
    "\n",
    "def solveNQ():\n",
    "\tboard = [[' ']*N for _ in range(N)]\n",
    "\n",
    "\tif solveNQUtil(board, 0) == False:\n",
    "\t\tprint (\"Solution does not exist\")\n",
    "\t\treturn False\n",
    "\n",
    "\tprintSolution(board)\n",
    "\treturn True\n",
    "\n",
    "solveNQ()\n"
   ]
  },
  {
   "cell_type": "code",
   "execution_count": null,
   "id": "dee691cd",
   "metadata": {},
   "outputs": [],
   "source": []
  }
 ],
 "metadata": {
  "kernelspec": {
   "display_name": "Python 3 (ipykernel)",
   "language": "python",
   "name": "python3"
  },
  "language_info": {
   "codemirror_mode": {
    "name": "ipython",
    "version": 3
   },
   "file_extension": ".py",
   "mimetype": "text/x-python",
   "name": "python",
   "nbconvert_exporter": "python",
   "pygments_lexer": "ipython3",
   "version": "3.9.13"
  }
 },
 "nbformat": 4,
 "nbformat_minor": 5
}
